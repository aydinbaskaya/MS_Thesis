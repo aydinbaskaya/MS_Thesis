{
 "cells": [
  {
   "cell_type": "markdown",
   "metadata": {},
   "source": [
    "## References and Links "
   ]
  },
  {
   "cell_type": "markdown",
   "metadata": {},
   "source": [
    "1) Ani, S. O., Polinder, H., and Ferreira, J. A. (2013). Comparison of energy yield of small wind turbines in low wind speed areas. IEEE Transactions on Sustainable Energy 4, 42-49.\n",
    "\n",
    "2) Bang, D.J. et al., 2008. Promising direct-drive generator system for large wind turbines. EPE Journal (European Power Electronics and Drives Journal), 18(3), p.7-13.\n",
    "\n",
    "3) https://en.wikipedia.org/wiki/Tip-speed_ratio\n",
    "\n",
    "4) http://www.reuk.co.uk/Betz-Limit.htm\n",
    "\n",
    "5) http://www.reuk.co.uk/Wind-Turbine-Tip-Speed-Ratio.htm\n",
    "\n",
    "6) https://www.windynation.com/jzv/inf/tip-speed-ratio-how-calculate-and-apply-tsr-blade-selection\n",
    "\n",
    "7) Bumby, J. R., Stannard, N., Dominy, J., & McLeod, N. (2008). A permanent magnet generator for small scale wind and water turbines. 2008 18th International Conference on Electrical Machines.\n",
    "\n",
    "8) Keysan, O., McDonald, A.S. & Mueller, M., 2010. Integrated Design and Optimization of a Direct Drive Axial Flux Permanent Magnet Generator for a Tidal Turbine. In International Conference on Renewable Energies and Power Quality - ICREPQʼ10.\n",
    "\n",
    "9) http://hyperphysics.phy-astr.gsu.edu/hbase/electric/farlaw.html \n",
    "\n",
    "10) Keysan, O., 2010. Marine Current Turbines C-GEN Direct Drive Machine Design. Design, (February).\n",
    "\n",
    "11) Keysan, O., a. McDonald, M. Mueller, R. Doherty, and M. Hamilton. 2010. C-GEN, a lightweight direct drive generator for marine energy converters. 5th IET International Conference on Power Electronics, Machines and Drives (PEMD 2010): MO244-MO244.\n",
    "\n",
    "12) Hodgins, N, A S McDonald, J Shek, O Keysan, and M A Mueller. 2009. Current and Future Developments of the C-GEN Lightweight Direct Drive Generator for Wave & Tidal Energy. Proceedings of the 8th European Wave and Tidal Energy Conference (October): 352-359. \n",
    "\n",
    "13) Hou, Z., Song, F., & Chen, B. (2012). Review and design study of drive train for MW class direct drive wind turbine. 2012 IEEE Innovative Smart Grid Technologies - Asia, ISGT Asia 2012, 2-5.\n",
    "\n",
    "14)Zavvos, A.; McDonald, A.S.; Mueller, M.; Bang, D.J.; Polinder, H., \"Structural comparison of permanent magnet direct drive generator topologies for 5MW wind turbines,\" in Power Electronics, Machines and Drives (PEMD 2012), 6th IET International Conference on , vol., no., pp.1-6, 27-29 March 2012\n",
    "\n",
    "15)Xu Yang; Patterson, D.; Hudgins, J., \"Permanent magnet generator design and control for large wind turbines,\" in Power Electronics and Machines in Wind Applications (PEMWA), 2012 IEEE , vol., no., pp.1-5, 16-18 July 2012\n",
    "\n",
    "16)Lampola, P. DIRECTLY DRIVEN , GRID ­ CONNECTED SURFACE ­ MOUNTED PERMANENT ­ MAGNET WIND GENERATOR. 1-6 (2015)\n",
    "\n",
    "17) Polinder, Henk et al. “Trends in Wind Turbine Generator Systems.” IEEE Journal of Emerging and Selected Topics in Power Electronics 1.3 (2013) : 174-185.\n",
    "\n",
    "18) Silaghi, H. & Spoialǎ, V. PM wind generator topologies. Journal of Electrical and Electronics Engineering 1, 125-129 (2008).\n",
    "\n",
    "19) Y. Xia, K. H. Ahmed and B. W. Williams, \"Wind Turbine Power Coefficient Analysis of a New Maximum Power Point Tracking Technique,\" in IEEE Transactions on Industrial Electronics, vol. 60, no. 3, pp. 1122-1132, March 2013.\n",
    "\n",
    "20) F.Sahin, \"Design and Development of a High-Speed Axial-Flux Permanent-Magnet Machine Design and Development of a High-Speed Axial-Flux Permanent-Magnet Machine\",PhD Thesis,Eindhoven University of Technology, 2001.\n",
    "\n",
    "21) Kuik, G. A. M. van, J Peinke, R Nijssen, D Lekou, J Mann, JN Sørensen, C Ferreira, et al. 2016. Long-term research challenges in wind energy – a research agenda by the European Academy of Wind Energy. Wind Energy Science 1, no. 1: 1-39.  http://www.wind-energ-sci.net/1/1/2016/.\n",
    "\n",
    "22) D. j. Bang, H. Polinder, G. Shrestha and J. A. Ferreira, \"Promising Direct-Drive Generator System for Large Wind Turbines,\" Wind Power to the Grid - EPE Wind Energy Chapter 1st Seminar, 2008. EPE-WECS 2008, Delft, 2008, pp. 1-10.\n",
    "doi: 10.1109/EPEWECS.2008.4497321\n",
    "\n",
    "23)  S. Engström and S. Lindgren, “Design of NewGen direct-drive generator for demonstration in a 3.5 MW wind turbine”, EWEC (European Wind Energy\n",
    "Conference & Exhibition, Milan, Italy, May 7-10 2007. \n",
    "\n",
    "24) Cirani, M., Sadarangani, C. & Thelin, P. Analysis of an innovative design for an axial flux Torus machine.\n",
    "\n",
    "25) O. P. Mahela, A. G. Shaik, Renewable and Sustainable Energy Reviews 57, 260-281 (2016).\n",
    "\n",
    "26) R. Melício, V.M.F. Mendes, J.P.S. Catalão, Fractional-order control and simulation of wind energy systems with PMSG/full-power converter topology, Energy Conversion and Management, Volume 51, Issue 6, June 2010, Pages 1250-1258, ISSN 0196-8904, http://dx.doi.org/10.1016/j.enconman.2009.12.036."
   ]
  }
 ],
 "metadata": {
  "anaconda-cloud": {},
  "kernelspec": {
   "display_name": "Python [Root]",
   "language": "python",
   "name": "Python [Root]"
  },
  "language_info": {
   "codemirror_mode": {
    "name": "ipython",
    "version": 3
   },
   "file_extension": ".py",
   "mimetype": "text/x-python",
   "name": "python",
   "nbconvert_exporter": "python",
   "pygments_lexer": "ipython3",
   "version": "3.5.2"
  }
 },
 "nbformat": 4,
 "nbformat_minor": 0
}
