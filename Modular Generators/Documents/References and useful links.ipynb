{
 "cells": [
  {
   "cell_type": "markdown",
   "metadata": {},
   "source": [
    "##References and Links "
   ]
  },
  {
   "cell_type": "markdown",
   "metadata": {},
   "source": [
    "1) Ani, S. O., Polinder, H., and Ferreira, J. A. (2013). Comparison of energy yield of small wind turbines in low wind speed areas. IEEE Transactions on Sustainable Energy 4, 42-49.\n",
    "\n",
    "2) Bang, D.J. et al., 2008. Promising direct-drive generator system for large wind turbines. EPE Journal (European Power Electronics and Drives Journal), 18(3), p.7-13.\n",
    "\n",
    "3) https://en.wikipedia.org/wiki/Tip-speed_ratio\n",
    "\n",
    "4) http://www.reuk.co.uk/Betz-Limit.htm\n",
    "\n",
    "5) http://www.reuk.co.uk/Wind-Turbine-Tip-Speed-Ratio.htm\n",
    "\n",
    "6) https://www.windynation.com/jzv/inf/tip-speed-ratio-how-calculate-and-apply-tsr-blade-selection\n",
    "\n",
    "7) Bumby, J. R., Stannard, N., Dominy, J., & McLeod, N. (2008). A permanent magnet generator for small scale wind and water turbines. 2008 18th International Conference on Electrical Machines.\n",
    "\n",
    "8) Keysan, O., McDonald, A.S. & Mueller, M., 2010. Integrated Design and Optimization of a Direct Drive Axial Flux Permanent Magnet Generator for a Tidal Turbine. In International Conference on Renewable Energies and Power Quality - ICREPQʼ10.\n",
    "\n",
    "9) http://hyperphysics.phy-astr.gsu.edu/hbase/electric/farlaw.html "
   ]
  }
 ],
 "metadata": {
  "kernelspec": {
   "display_name": "Python 3",
   "language": "python",
   "name": "python3"
  },
  "language_info": {
   "codemirror_mode": {
    "name": "ipython",
    "version": 3
   },
   "file_extension": ".py",
   "mimetype": "text/x-python",
   "name": "python",
   "nbconvert_exporter": "python",
   "pygments_lexer": "ipython3",
   "version": "3.4.3"
  }
 },
 "nbformat": 4,
 "nbformat_minor": 0
}
