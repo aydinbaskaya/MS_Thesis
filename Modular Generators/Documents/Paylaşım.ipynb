{
 "cells": [
  {
   "cell_type": "markdown",
   "metadata": {},
   "source": [
    "### Paylaşım\n",
    "\n",
    "Burada tez çalışmaları sırasında, doğrudan tezimle bağlantısı olmasa da okuyup incelediğim ve faydalı içeriklere yer vericem.\n",
    "\n",
    "** Hysteresis motor**\n",
    "\n",
    "Senkron motorlar kategorisinde silindirik rotorlu bir motor. Kalkışı endüksiyon motorları gibi.Temel özelliklerinden en önemlileri rotorda sargı bulunmayıp eddy kayıplarıyla harekete geçmesi, manyetik ve manyetik olmayan malzemeyi bir arada bulundurması.Avantaj olarak sessiz ve vuruntusuz çalışıyor. Dezavantajı ise yüksek rotor kayıpları yüzünden verimsiz olması.\n",
    "\n",
    "Linkler :  [1](http://www.electrical4u.com/hysteresis-motor/)\n",
    "           [2](http://circuitglobe.com/hysteresis-motor.html)\n",
    "\n",
    "Makale :  1) M. A. Copeland and G. R. Slemon, \"An Analysis of the Hysteresis Motor I - Analysis of the Idealized Machine,\" in IEEE Transactions on Power Apparatus and Systems, vol. 82, no. 65, pp. 34-42, April 1963.\n",
    "doi: 10.1109/TPAS.1963.291395 URL: http://ieeexplore.ieee.org/stamp/stamp.jsp?tp=&arnumber=4072760&isnumber=4072755 \n",
    "                "
   ]
  }
 ],
 "metadata": {
  "kernelspec": {
   "display_name": "Python [Root]",
   "language": "python",
   "name": "Python [Root]"
  },
  "language_info": {
   "codemirror_mode": {
    "name": "ipython",
    "version": 3
   },
   "file_extension": ".py",
   "mimetype": "text/x-python",
   "name": "python",
   "nbconvert_exporter": "python",
   "pygments_lexer": "ipython3",
   "version": "3.5.2"
  }
 },
 "nbformat": 4,
 "nbformat_minor": 0
}
